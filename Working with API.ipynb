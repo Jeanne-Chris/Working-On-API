{
 "cells": [
  {
   "cell_type": "markdown",
   "metadata": {},
   "source": [
    "# Working with APIs"
   ]
  },
  {
   "cell_type": "markdown",
   "metadata": {},
   "source": [
    "## 1. Retrieving the Bitcoin Price Index as JSON from the Coindesk API\n",
    "<a href = \"https://www.coindesk.com/coindesk-api\"> Coindesk API Reference </a>"
   ]
  },
  {
   "cell_type": "markdown",
   "metadata": {},
   "source": [
    "#### a. Import the Libraries"
   ]
  },
  {
   "cell_type": "code",
   "execution_count": 1,
   "metadata": {},
   "outputs": [],
   "source": [
    "import requests\n",
    "import json\n",
    "import pandas as pd"
   ]
  },
  {
   "cell_type": "markdown",
   "metadata": {},
   "source": [
    "#### b. Use the Coindesk API to get the current price data as a JSON"
   ]
  },
  {
   "cell_type": "code",
   "execution_count": 2,
   "metadata": {},
   "outputs": [],
   "source": [
    "url=('https://api.coindesk.com/v1/bpi/currentprice.json')"
   ]
  },
  {
   "cell_type": "code",
   "execution_count": 3,
   "metadata": {},
   "outputs": [],
   "source": [
    "# url2=('https://api.coindesk.com/v1/bpi/historical/close.json?start=2020-01-01&end=2020-12-31')\n",
    "# r2=requests.get(url2)\n",
    "# r2.status_code\n",
    "response=requests.get(url)"
   ]
  },
  {
   "cell_type": "code",
   "execution_count": 4,
   "metadata": {},
   "outputs": [
    {
     "data": {
      "text/plain": [
       "<Response [200]>"
      ]
     },
     "execution_count": 4,
     "metadata": {},
     "output_type": "execute_result"
    }
   ],
   "source": [
    "response"
   ]
  },
  {
   "cell_type": "code",
   "execution_count": 5,
   "metadata": {},
   "outputs": [
    {
     "name": "stdout",
     "output_type": "stream",
     "text": [
      "<class 'requests.models.Response'>\n"
     ]
    }
   ],
   "source": [
    "print(type(response))"
   ]
  },
  {
   "cell_type": "markdown",
   "metadata": {},
   "source": [
    "#### c. Inspect the retrieved data"
   ]
  },
  {
   "cell_type": "code",
   "execution_count": 6,
   "metadata": {},
   "outputs": [],
   "source": [
    "parsed = response.json()"
   ]
  },
  {
   "cell_type": "code",
   "execution_count": 7,
   "metadata": {},
   "outputs": [
    {
     "data": {
      "text/plain": [
       "{'time': {'updated': 'Oct 5, 2021 13:37:00 UTC',\n",
       "  'updatedISO': '2021-10-05T13:37:00+00:00',\n",
       "  'updateduk': 'Oct 5, 2021 at 14:37 BST'},\n",
       " 'disclaimer': 'This data was produced from the CoinDesk Bitcoin Price Index (USD). Non-USD currency data converted using hourly conversion rate from openexchangerates.org',\n",
       " 'chartName': 'Bitcoin',\n",
       " 'bpi': {'USD': {'code': 'USD',\n",
       "   'symbol': '&#36;',\n",
       "   'rate': '50,144.9750',\n",
       "   'description': 'United States Dollar',\n",
       "   'rate_float': 50144.975},\n",
       "  'GBP': {'code': 'GBP',\n",
       "   'symbol': '&pound;',\n",
       "   'rate': '36,808.5679',\n",
       "   'description': 'British Pound Sterling',\n",
       "   'rate_float': 36808.5679},\n",
       "  'EUR': {'code': 'EUR',\n",
       "   'symbol': '&euro;',\n",
       "   'rate': '43,227.4256',\n",
       "   'description': 'Euro',\n",
       "   'rate_float': 43227.4256}}}"
      ]
     },
     "execution_count": 7,
     "metadata": {},
     "output_type": "execute_result"
    }
   ],
   "source": [
    "parsed"
   ]
  },
  {
   "cell_type": "code",
   "execution_count": 8,
   "metadata": {},
   "outputs": [
    {
     "data": {
      "text/plain": [
       "{'USD': {'code': 'USD',\n",
       "  'symbol': '&#36;',\n",
       "  'rate': '50,144.9750',\n",
       "  'description': 'United States Dollar',\n",
       "  'rate_float': 50144.975},\n",
       " 'GBP': {'code': 'GBP',\n",
       "  'symbol': '&pound;',\n",
       "  'rate': '36,808.5679',\n",
       "  'description': 'British Pound Sterling',\n",
       "  'rate_float': 36808.5679},\n",
       " 'EUR': {'code': 'EUR',\n",
       "  'symbol': '&euro;',\n",
       "  'rate': '43,227.4256',\n",
       "  'description': 'Euro',\n",
       "  'rate_float': 43227.4256}}"
      ]
     },
     "execution_count": 8,
     "metadata": {},
     "output_type": "execute_result"
    }
   ],
   "source": [
    "parsed['bpi']"
   ]
  },
  {
   "cell_type": "markdown",
   "metadata": {},
   "source": [
    "#### d. Print out the time the price was last updated"
   ]
  },
  {
   "cell_type": "code",
   "execution_count": 9,
   "metadata": {},
   "outputs": [
    {
     "data": {
      "text/plain": [
       "{'updated': 'Oct 5, 2021 13:37:00 UTC',\n",
       " 'updatedISO': '2021-10-05T13:37:00+00:00',\n",
       " 'updateduk': 'Oct 5, 2021 at 14:37 BST'}"
      ]
     },
     "execution_count": 9,
     "metadata": {},
     "output_type": "execute_result"
    }
   ],
   "source": [
    "parsed['time']"
   ]
  },
  {
   "cell_type": "markdown",
   "metadata": {},
   "source": [
    "#### e. Place the results of the current price in a Dataframe and show the dataframe"
   ]
  },
  {
   "cell_type": "code",
   "execution_count": 10,
   "metadata": {},
   "outputs": [],
   "source": [
    "jsonfile = pd.DataFrame(parsed[\"bpi\"])"
   ]
  },
  {
   "cell_type": "code",
   "execution_count": 11,
   "metadata": {},
   "outputs": [
    {
     "data": {
      "text/html": [
       "<div>\n",
       "<style scoped>\n",
       "    .dataframe tbody tr th:only-of-type {\n",
       "        vertical-align: middle;\n",
       "    }\n",
       "\n",
       "    .dataframe tbody tr th {\n",
       "        vertical-align: top;\n",
       "    }\n",
       "\n",
       "    .dataframe thead th {\n",
       "        text-align: right;\n",
       "    }\n",
       "</style>\n",
       "<table border=\"1\" class=\"dataframe\">\n",
       "  <thead>\n",
       "    <tr style=\"text-align: right;\">\n",
       "      <th></th>\n",
       "      <th>USD</th>\n",
       "      <th>GBP</th>\n",
       "      <th>EUR</th>\n",
       "    </tr>\n",
       "  </thead>\n",
       "  <tbody>\n",
       "    <tr>\n",
       "      <th>code</th>\n",
       "      <td>USD</td>\n",
       "      <td>GBP</td>\n",
       "      <td>EUR</td>\n",
       "    </tr>\n",
       "    <tr>\n",
       "      <th>symbol</th>\n",
       "      <td>&amp;#36;</td>\n",
       "      <td>&amp;pound;</td>\n",
       "      <td>&amp;euro;</td>\n",
       "    </tr>\n",
       "    <tr>\n",
       "      <th>rate</th>\n",
       "      <td>50,144.9750</td>\n",
       "      <td>36,808.5679</td>\n",
       "      <td>43,227.4256</td>\n",
       "    </tr>\n",
       "    <tr>\n",
       "      <th>description</th>\n",
       "      <td>United States Dollar</td>\n",
       "      <td>British Pound Sterling</td>\n",
       "      <td>Euro</td>\n",
       "    </tr>\n",
       "    <tr>\n",
       "      <th>rate_float</th>\n",
       "      <td>50144.975</td>\n",
       "      <td>36808.5679</td>\n",
       "      <td>43227.4256</td>\n",
       "    </tr>\n",
       "  </tbody>\n",
       "</table>\n",
       "</div>"
      ],
      "text/plain": [
       "                              USD                     GBP          EUR\n",
       "code                          USD                     GBP          EUR\n",
       "symbol                      &#36;                 &pound;       &euro;\n",
       "rate                  50,144.9750             36,808.5679  43,227.4256\n",
       "description  United States Dollar  British Pound Sterling         Euro\n",
       "rate_float              50144.975              36808.5679   43227.4256"
      ]
     },
     "execution_count": 11,
     "metadata": {},
     "output_type": "execute_result"
    }
   ],
   "source": [
    "jsonfile.head()"
   ]
  },
  {
   "cell_type": "markdown",
   "metadata": {},
   "source": [
    "___"
   ]
  },
  {
   "cell_type": "markdown",
   "metadata": {},
   "source": [
    "## 2. Retrieving data from Quandl using the Quandl Python Library\n",
    "##### Retrieve a table showing Eggplant Production in the Philippines from 2010 onwards using the UN Food and Agriculture Data Product on Quandl\n",
    "\n",
    "<a href='https://www.quandl.com/data/UFAO/CR_AUBG_PHL-Eggplant-Aubergine-Or-Brinjal-Production-in-Philippines'>Link</a>"
   ]
  },
  {
   "cell_type": "markdown",
   "metadata": {},
   "source": [
    "1. Sign up for a free Quandl account (https://www.quandl.com/sign-up)\n",
    "2. Retrieve your API key and keep it accessible (https://help.quandl.com/article/320-where-can-i-find-my-api-key)\n",
    "\n",
    "\n",
    "<i/> Choose 'For Personal Use'\n",
    "\n"
   ]
  },
  {
   "cell_type": "markdown",
   "metadata": {},
   "source": [
    "#### a. Import the Libraries"
   ]
  },
  {
   "cell_type": "code",
   "execution_count": 12,
   "metadata": {},
   "outputs": [],
   "source": [
    "import requests\n",
    "import pandas as pd\n",
    "import quandl"
   ]
  },
  {
   "cell_type": "markdown",
   "metadata": {},
   "source": [
    "#### b. Setup your Quandl API Key"
   ]
  },
  {
   "cell_type": "code",
   "execution_count": 13,
   "metadata": {},
   "outputs": [],
   "source": [
    "#Access stored credentials\n",
    "creds = pd.read_json('../Resources/quandl_chris.json', typ='series')\n",
    "api_key = creds['api_key']\n",
    "quandl.ApiConfig.api_key =  api_key "
   ]
  },
  {
   "cell_type": "markdown",
   "metadata": {},
   "source": [
    "#### c. Use the get function in the quandl python API documentation to retrieve the dataframe"
   ]
  },
  {
   "cell_type": "code",
   "execution_count": 14,
   "metadata": {},
   "outputs": [],
   "source": [
    "data=quandl.get(\"UFAO/CR_AUBG_PHL\", authtoken=api_key, start_date=\"1961-12-31\", end_date=\"2021-12-31\")"
   ]
  },
  {
   "cell_type": "code",
   "execution_count": 15,
   "metadata": {},
   "outputs": [
    {
     "data": {
      "text/html": [
       "<div>\n",
       "<style scoped>\n",
       "    .dataframe tbody tr th:only-of-type {\n",
       "        vertical-align: middle;\n",
       "    }\n",
       "\n",
       "    .dataframe tbody tr th {\n",
       "        vertical-align: top;\n",
       "    }\n",
       "\n",
       "    .dataframe thead th {\n",
       "        text-align: right;\n",
       "    }\n",
       "</style>\n",
       "<table border=\"1\" class=\"dataframe\">\n",
       "  <thead>\n",
       "    <tr style=\"text-align: right;\">\n",
       "      <th></th>\n",
       "      <th>Area harvested - ha</th>\n",
       "      <th>Yield - hg/ha</th>\n",
       "      <th>Production - tonnes</th>\n",
       "    </tr>\n",
       "    <tr>\n",
       "      <th>Date</th>\n",
       "      <th></th>\n",
       "      <th></th>\n",
       "      <th></th>\n",
       "    </tr>\n",
       "  </thead>\n",
       "  <tbody>\n",
       "    <tr>\n",
       "      <th>1961-12-31</th>\n",
       "      <td>23000.0</td>\n",
       "      <td>20000.0</td>\n",
       "      <td>46000.0</td>\n",
       "    </tr>\n",
       "    <tr>\n",
       "      <th>1962-12-31</th>\n",
       "      <td>23000.0</td>\n",
       "      <td>23913.0</td>\n",
       "      <td>55000.0</td>\n",
       "    </tr>\n",
       "    <tr>\n",
       "      <th>1963-12-31</th>\n",
       "      <td>19700.0</td>\n",
       "      <td>24264.0</td>\n",
       "      <td>47800.0</td>\n",
       "    </tr>\n",
       "    <tr>\n",
       "      <th>1964-12-31</th>\n",
       "      <td>18020.0</td>\n",
       "      <td>24547.0</td>\n",
       "      <td>44234.0</td>\n",
       "    </tr>\n",
       "    <tr>\n",
       "      <th>1965-12-31</th>\n",
       "      <td>16520.0</td>\n",
       "      <td>28291.0</td>\n",
       "      <td>46737.0</td>\n",
       "    </tr>\n",
       "    <tr>\n",
       "      <th>1966-12-31</th>\n",
       "      <td>17520.0</td>\n",
       "      <td>29596.0</td>\n",
       "      <td>51852.0</td>\n",
       "    </tr>\n",
       "    <tr>\n",
       "      <th>1967-12-31</th>\n",
       "      <td>17440.0</td>\n",
       "      <td>30853.0</td>\n",
       "      <td>53808.0</td>\n",
       "    </tr>\n",
       "    <tr>\n",
       "      <th>1968-12-31</th>\n",
       "      <td>17070.0</td>\n",
       "      <td>36666.0</td>\n",
       "      <td>62589.0</td>\n",
       "    </tr>\n",
       "    <tr>\n",
       "      <th>1969-12-31</th>\n",
       "      <td>17450.0</td>\n",
       "      <td>33806.0</td>\n",
       "      <td>58991.0</td>\n",
       "    </tr>\n",
       "    <tr>\n",
       "      <th>1970-12-31</th>\n",
       "      <td>17680.0</td>\n",
       "      <td>38800.0</td>\n",
       "      <td>68599.0</td>\n",
       "    </tr>\n",
       "    <tr>\n",
       "      <th>1971-12-31</th>\n",
       "      <td>15780.0</td>\n",
       "      <td>40342.0</td>\n",
       "      <td>63659.0</td>\n",
       "    </tr>\n",
       "    <tr>\n",
       "      <th>1972-12-31</th>\n",
       "      <td>19100.0</td>\n",
       "      <td>33928.0</td>\n",
       "      <td>64802.0</td>\n",
       "    </tr>\n",
       "    <tr>\n",
       "      <th>1973-12-31</th>\n",
       "      <td>19290.0</td>\n",
       "      <td>41160.0</td>\n",
       "      <td>79398.0</td>\n",
       "    </tr>\n",
       "    <tr>\n",
       "      <th>1974-12-31</th>\n",
       "      <td>17140.0</td>\n",
       "      <td>51865.0</td>\n",
       "      <td>88897.0</td>\n",
       "    </tr>\n",
       "    <tr>\n",
       "      <th>1975-12-31</th>\n",
       "      <td>16820.0</td>\n",
       "      <td>49551.0</td>\n",
       "      <td>83345.0</td>\n",
       "    </tr>\n",
       "    <tr>\n",
       "      <th>1976-12-31</th>\n",
       "      <td>16220.0</td>\n",
       "      <td>50785.0</td>\n",
       "      <td>82374.0</td>\n",
       "    </tr>\n",
       "    <tr>\n",
       "      <th>1977-12-31</th>\n",
       "      <td>16830.0</td>\n",
       "      <td>51620.0</td>\n",
       "      <td>86876.0</td>\n",
       "    </tr>\n",
       "    <tr>\n",
       "      <th>1978-12-31</th>\n",
       "      <td>17180.0</td>\n",
       "      <td>53722.0</td>\n",
       "      <td>92295.0</td>\n",
       "    </tr>\n",
       "    <tr>\n",
       "      <th>1979-12-31</th>\n",
       "      <td>16970.0</td>\n",
       "      <td>61268.0</td>\n",
       "      <td>103971.0</td>\n",
       "    </tr>\n",
       "    <tr>\n",
       "      <th>1980-12-31</th>\n",
       "      <td>17230.0</td>\n",
       "      <td>64370.0</td>\n",
       "      <td>110910.0</td>\n",
       "    </tr>\n",
       "    <tr>\n",
       "      <th>1981-12-31</th>\n",
       "      <td>15530.0</td>\n",
       "      <td>77640.0</td>\n",
       "      <td>120575.0</td>\n",
       "    </tr>\n",
       "    <tr>\n",
       "      <th>1982-12-31</th>\n",
       "      <td>14770.0</td>\n",
       "      <td>85010.0</td>\n",
       "      <td>125560.0</td>\n",
       "    </tr>\n",
       "    <tr>\n",
       "      <th>1983-12-31</th>\n",
       "      <td>14243.0</td>\n",
       "      <td>78679.0</td>\n",
       "      <td>112063.0</td>\n",
       "    </tr>\n",
       "    <tr>\n",
       "      <th>1984-12-31</th>\n",
       "      <td>14693.0</td>\n",
       "      <td>75109.0</td>\n",
       "      <td>110358.0</td>\n",
       "    </tr>\n",
       "    <tr>\n",
       "      <th>1985-12-31</th>\n",
       "      <td>14396.0</td>\n",
       "      <td>71321.0</td>\n",
       "      <td>102673.0</td>\n",
       "    </tr>\n",
       "    <tr>\n",
       "      <th>1986-12-31</th>\n",
       "      <td>14478.0</td>\n",
       "      <td>72212.0</td>\n",
       "      <td>104548.0</td>\n",
       "    </tr>\n",
       "    <tr>\n",
       "      <th>1987-12-31</th>\n",
       "      <td>14793.0</td>\n",
       "      <td>72785.0</td>\n",
       "      <td>107671.0</td>\n",
       "    </tr>\n",
       "    <tr>\n",
       "      <th>1988-12-31</th>\n",
       "      <td>15275.0</td>\n",
       "      <td>71883.0</td>\n",
       "      <td>109802.0</td>\n",
       "    </tr>\n",
       "    <tr>\n",
       "      <th>1989-12-31</th>\n",
       "      <td>16725.0</td>\n",
       "      <td>66713.0</td>\n",
       "      <td>111578.0</td>\n",
       "    </tr>\n",
       "    <tr>\n",
       "      <th>1990-12-31</th>\n",
       "      <td>16425.0</td>\n",
       "      <td>68617.0</td>\n",
       "      <td>112704.0</td>\n",
       "    </tr>\n",
       "    <tr>\n",
       "      <th>1991-12-31</th>\n",
       "      <td>14465.0</td>\n",
       "      <td>71925.0</td>\n",
       "      <td>104040.0</td>\n",
       "    </tr>\n",
       "    <tr>\n",
       "      <th>1992-12-31</th>\n",
       "      <td>15535.0</td>\n",
       "      <td>71098.0</td>\n",
       "      <td>110451.0</td>\n",
       "    </tr>\n",
       "    <tr>\n",
       "      <th>1993-12-31</th>\n",
       "      <td>17416.0</td>\n",
       "      <td>64120.0</td>\n",
       "      <td>111672.0</td>\n",
       "    </tr>\n",
       "    <tr>\n",
       "      <th>1994-12-31</th>\n",
       "      <td>17762.0</td>\n",
       "      <td>69514.0</td>\n",
       "      <td>123471.0</td>\n",
       "    </tr>\n",
       "    <tr>\n",
       "      <th>1995-12-31</th>\n",
       "      <td>17643.0</td>\n",
       "      <td>74082.0</td>\n",
       "      <td>130702.0</td>\n",
       "    </tr>\n",
       "    <tr>\n",
       "      <th>1996-12-31</th>\n",
       "      <td>18074.0</td>\n",
       "      <td>87199.0</td>\n",
       "      <td>157603.0</td>\n",
       "    </tr>\n",
       "    <tr>\n",
       "      <th>1997-12-31</th>\n",
       "      <td>18954.0</td>\n",
       "      <td>102898.0</td>\n",
       "      <td>195032.0</td>\n",
       "    </tr>\n",
       "    <tr>\n",
       "      <th>1998-12-31</th>\n",
       "      <td>16102.0</td>\n",
       "      <td>101747.0</td>\n",
       "      <td>163833.0</td>\n",
       "    </tr>\n",
       "    <tr>\n",
       "      <th>1999-12-31</th>\n",
       "      <td>19386.0</td>\n",
       "      <td>82402.0</td>\n",
       "      <td>159744.0</td>\n",
       "    </tr>\n",
       "    <tr>\n",
       "      <th>2000-12-31</th>\n",
       "      <td>19949.0</td>\n",
       "      <td>83285.0</td>\n",
       "      <td>166146.0</td>\n",
       "    </tr>\n",
       "    <tr>\n",
       "      <th>2001-12-31</th>\n",
       "      <td>20422.0</td>\n",
       "      <td>83155.0</td>\n",
       "      <td>169819.0</td>\n",
       "    </tr>\n",
       "    <tr>\n",
       "      <th>2002-12-31</th>\n",
       "      <td>20813.0</td>\n",
       "      <td>86321.0</td>\n",
       "      <td>179659.0</td>\n",
       "    </tr>\n",
       "    <tr>\n",
       "      <th>2003-12-31</th>\n",
       "      <td>20984.0</td>\n",
       "      <td>84346.0</td>\n",
       "      <td>176991.0</td>\n",
       "    </tr>\n",
       "    <tr>\n",
       "      <th>2004-12-31</th>\n",
       "      <td>21068.0</td>\n",
       "      <td>86744.0</td>\n",
       "      <td>182753.0</td>\n",
       "    </tr>\n",
       "    <tr>\n",
       "      <th>2005-12-31</th>\n",
       "      <td>21233.0</td>\n",
       "      <td>88444.0</td>\n",
       "      <td>187793.0</td>\n",
       "    </tr>\n",
       "    <tr>\n",
       "      <th>2006-12-31</th>\n",
       "      <td>20901.0</td>\n",
       "      <td>91819.0</td>\n",
       "      <td>191911.0</td>\n",
       "    </tr>\n",
       "    <tr>\n",
       "      <th>2007-12-31</th>\n",
       "      <td>21613.0</td>\n",
       "      <td>97236.0</td>\n",
       "      <td>210156.0</td>\n",
       "    </tr>\n",
       "    <tr>\n",
       "      <th>2008-12-31</th>\n",
       "      <td>21299.0</td>\n",
       "      <td>93703.0</td>\n",
       "      <td>199579.0</td>\n",
       "    </tr>\n",
       "    <tr>\n",
       "      <th>2009-12-31</th>\n",
       "      <td>21170.0</td>\n",
       "      <td>94918.0</td>\n",
       "      <td>200942.0</td>\n",
       "    </tr>\n",
       "    <tr>\n",
       "      <th>2010-12-31</th>\n",
       "      <td>21423.0</td>\n",
       "      <td>97205.0</td>\n",
       "      <td>208242.0</td>\n",
       "    </tr>\n",
       "    <tr>\n",
       "      <th>2011-12-31</th>\n",
       "      <td>21377.0</td>\n",
       "      <td>97298.0</td>\n",
       "      <td>207994.0</td>\n",
       "    </tr>\n",
       "    <tr>\n",
       "      <th>2012-12-31</th>\n",
       "      <td>21485.0</td>\n",
       "      <td>98620.0</td>\n",
       "      <td>211885.0</td>\n",
       "    </tr>\n",
       "    <tr>\n",
       "      <th>2013-12-31</th>\n",
       "      <td>21239.0</td>\n",
       "      <td>103541.0</td>\n",
       "      <td>219911.0</td>\n",
       "    </tr>\n",
       "    <tr>\n",
       "      <th>2014-12-31</th>\n",
       "      <td>21159.0</td>\n",
       "      <td>106611.0</td>\n",
       "      <td>225579.0</td>\n",
       "    </tr>\n",
       "    <tr>\n",
       "      <th>2015-12-31</th>\n",
       "      <td>21008.0</td>\n",
       "      <td>110845.0</td>\n",
       "      <td>232864.0</td>\n",
       "    </tr>\n",
       "    <tr>\n",
       "      <th>2016-12-31</th>\n",
       "      <td>21038.0</td>\n",
       "      <td>111999.0</td>\n",
       "      <td>235626.0</td>\n",
       "    </tr>\n",
       "    <tr>\n",
       "      <th>2017-12-31</th>\n",
       "      <td>21446.0</td>\n",
       "      <td>112798.0</td>\n",
       "      <td>241901.0</td>\n",
       "    </tr>\n",
       "    <tr>\n",
       "      <th>2018-12-31</th>\n",
       "      <td>21651.0</td>\n",
       "      <td>113083.0</td>\n",
       "      <td>244838.0</td>\n",
       "    </tr>\n",
       "  </tbody>\n",
       "</table>\n",
       "</div>"
      ],
      "text/plain": [
       "            Area harvested - ha  Yield - hg/ha  Production - tonnes\n",
       "Date                                                               \n",
       "1961-12-31              23000.0        20000.0              46000.0\n",
       "1962-12-31              23000.0        23913.0              55000.0\n",
       "1963-12-31              19700.0        24264.0              47800.0\n",
       "1964-12-31              18020.0        24547.0              44234.0\n",
       "1965-12-31              16520.0        28291.0              46737.0\n",
       "1966-12-31              17520.0        29596.0              51852.0\n",
       "1967-12-31              17440.0        30853.0              53808.0\n",
       "1968-12-31              17070.0        36666.0              62589.0\n",
       "1969-12-31              17450.0        33806.0              58991.0\n",
       "1970-12-31              17680.0        38800.0              68599.0\n",
       "1971-12-31              15780.0        40342.0              63659.0\n",
       "1972-12-31              19100.0        33928.0              64802.0\n",
       "1973-12-31              19290.0        41160.0              79398.0\n",
       "1974-12-31              17140.0        51865.0              88897.0\n",
       "1975-12-31              16820.0        49551.0              83345.0\n",
       "1976-12-31              16220.0        50785.0              82374.0\n",
       "1977-12-31              16830.0        51620.0              86876.0\n",
       "1978-12-31              17180.0        53722.0              92295.0\n",
       "1979-12-31              16970.0        61268.0             103971.0\n",
       "1980-12-31              17230.0        64370.0             110910.0\n",
       "1981-12-31              15530.0        77640.0             120575.0\n",
       "1982-12-31              14770.0        85010.0             125560.0\n",
       "1983-12-31              14243.0        78679.0             112063.0\n",
       "1984-12-31              14693.0        75109.0             110358.0\n",
       "1985-12-31              14396.0        71321.0             102673.0\n",
       "1986-12-31              14478.0        72212.0             104548.0\n",
       "1987-12-31              14793.0        72785.0             107671.0\n",
       "1988-12-31              15275.0        71883.0             109802.0\n",
       "1989-12-31              16725.0        66713.0             111578.0\n",
       "1990-12-31              16425.0        68617.0             112704.0\n",
       "1991-12-31              14465.0        71925.0             104040.0\n",
       "1992-12-31              15535.0        71098.0             110451.0\n",
       "1993-12-31              17416.0        64120.0             111672.0\n",
       "1994-12-31              17762.0        69514.0             123471.0\n",
       "1995-12-31              17643.0        74082.0             130702.0\n",
       "1996-12-31              18074.0        87199.0             157603.0\n",
       "1997-12-31              18954.0       102898.0             195032.0\n",
       "1998-12-31              16102.0       101747.0             163833.0\n",
       "1999-12-31              19386.0        82402.0             159744.0\n",
       "2000-12-31              19949.0        83285.0             166146.0\n",
       "2001-12-31              20422.0        83155.0             169819.0\n",
       "2002-12-31              20813.0        86321.0             179659.0\n",
       "2003-12-31              20984.0        84346.0             176991.0\n",
       "2004-12-31              21068.0        86744.0             182753.0\n",
       "2005-12-31              21233.0        88444.0             187793.0\n",
       "2006-12-31              20901.0        91819.0             191911.0\n",
       "2007-12-31              21613.0        97236.0             210156.0\n",
       "2008-12-31              21299.0        93703.0             199579.0\n",
       "2009-12-31              21170.0        94918.0             200942.0\n",
       "2010-12-31              21423.0        97205.0             208242.0\n",
       "2011-12-31              21377.0        97298.0             207994.0\n",
       "2012-12-31              21485.0        98620.0             211885.0\n",
       "2013-12-31              21239.0       103541.0             219911.0\n",
       "2014-12-31              21159.0       106611.0             225579.0\n",
       "2015-12-31              21008.0       110845.0             232864.0\n",
       "2016-12-31              21038.0       111999.0             235626.0\n",
       "2017-12-31              21446.0       112798.0             241901.0\n",
       "2018-12-31              21651.0       113083.0             244838.0"
      ]
     },
     "execution_count": 15,
     "metadata": {},
     "output_type": "execute_result"
    }
   ],
   "source": [
    "data"
   ]
  },
  {
   "cell_type": "markdown",
   "metadata": {},
   "source": [
    "#### d. Filter for the said years"
   ]
  },
  {
   "cell_type": "code",
   "execution_count": 16,
   "metadata": {},
   "outputs": [
    {
     "data": {
      "text/html": [
       "<div>\n",
       "<style scoped>\n",
       "    .dataframe tbody tr th:only-of-type {\n",
       "        vertical-align: middle;\n",
       "    }\n",
       "\n",
       "    .dataframe tbody tr th {\n",
       "        vertical-align: top;\n",
       "    }\n",
       "\n",
       "    .dataframe thead th {\n",
       "        text-align: right;\n",
       "    }\n",
       "</style>\n",
       "<table border=\"1\" class=\"dataframe\">\n",
       "  <thead>\n",
       "    <tr style=\"text-align: right;\">\n",
       "      <th></th>\n",
       "      <th>Area harvested - ha</th>\n",
       "      <th>Yield - hg/ha</th>\n",
       "      <th>Production - tonnes</th>\n",
       "    </tr>\n",
       "    <tr>\n",
       "      <th>Date</th>\n",
       "      <th></th>\n",
       "      <th></th>\n",
       "      <th></th>\n",
       "    </tr>\n",
       "  </thead>\n",
       "  <tbody>\n",
       "    <tr>\n",
       "      <th>2010-12-31</th>\n",
       "      <td>21423.0</td>\n",
       "      <td>97205.0</td>\n",
       "      <td>208242.0</td>\n",
       "    </tr>\n",
       "    <tr>\n",
       "      <th>2011-12-31</th>\n",
       "      <td>21377.0</td>\n",
       "      <td>97298.0</td>\n",
       "      <td>207994.0</td>\n",
       "    </tr>\n",
       "    <tr>\n",
       "      <th>2012-12-31</th>\n",
       "      <td>21485.0</td>\n",
       "      <td>98620.0</td>\n",
       "      <td>211885.0</td>\n",
       "    </tr>\n",
       "    <tr>\n",
       "      <th>2013-12-31</th>\n",
       "      <td>21239.0</td>\n",
       "      <td>103541.0</td>\n",
       "      <td>219911.0</td>\n",
       "    </tr>\n",
       "    <tr>\n",
       "      <th>2014-12-31</th>\n",
       "      <td>21159.0</td>\n",
       "      <td>106611.0</td>\n",
       "      <td>225579.0</td>\n",
       "    </tr>\n",
       "    <tr>\n",
       "      <th>2015-12-31</th>\n",
       "      <td>21008.0</td>\n",
       "      <td>110845.0</td>\n",
       "      <td>232864.0</td>\n",
       "    </tr>\n",
       "    <tr>\n",
       "      <th>2016-12-31</th>\n",
       "      <td>21038.0</td>\n",
       "      <td>111999.0</td>\n",
       "      <td>235626.0</td>\n",
       "    </tr>\n",
       "    <tr>\n",
       "      <th>2017-12-31</th>\n",
       "      <td>21446.0</td>\n",
       "      <td>112798.0</td>\n",
       "      <td>241901.0</td>\n",
       "    </tr>\n",
       "    <tr>\n",
       "      <th>2018-12-31</th>\n",
       "      <td>21651.0</td>\n",
       "      <td>113083.0</td>\n",
       "      <td>244838.0</td>\n",
       "    </tr>\n",
       "  </tbody>\n",
       "</table>\n",
       "</div>"
      ],
      "text/plain": [
       "            Area harvested - ha  Yield - hg/ha  Production - tonnes\n",
       "Date                                                               \n",
       "2010-12-31              21423.0        97205.0             208242.0\n",
       "2011-12-31              21377.0        97298.0             207994.0\n",
       "2012-12-31              21485.0        98620.0             211885.0\n",
       "2013-12-31              21239.0       103541.0             219911.0\n",
       "2014-12-31              21159.0       106611.0             225579.0\n",
       "2015-12-31              21008.0       110845.0             232864.0\n",
       "2016-12-31              21038.0       111999.0             235626.0\n",
       "2017-12-31              21446.0       112798.0             241901.0\n",
       "2018-12-31              21651.0       113083.0             244838.0"
      ]
     },
     "execution_count": 16,
     "metadata": {},
     "output_type": "execute_result"
    }
   ],
   "source": [
    "data.loc['2010-12-31':'2021-12-31']"
   ]
  },
  {
   "cell_type": "markdown",
   "metadata": {},
   "source": [
    "_________"
   ]
  },
  {
   "cell_type": "markdown",
   "metadata": {},
   "source": [
    "## 3. Retrieving Browsers Used to Access Data.gov \n",
    "##### Retrieve the list of browsers on <a href='https://www.data.gov/'>Data.gov</a> by accessing the following request:\n",
    "\n",
    "\n",
    "<a href=\"https://analytics.usa.gov/data/live/browsers.json\"> https://analytics.usa.gov/data/live/browsers.json </a>"
   ]
  },
  {
   "cell_type": "markdown",
   "metadata": {},
   "source": [
    "#### 1. Import libraries"
   ]
  },
  {
   "cell_type": "code",
   "execution_count": 17,
   "metadata": {},
   "outputs": [],
   "source": [
    "import requests\n",
    "import pandas as pd"
   ]
  },
  {
   "cell_type": "markdown",
   "metadata": {},
   "source": [
    "#### 2. Request for the data"
   ]
  },
  {
   "cell_type": "code",
   "execution_count": 18,
   "metadata": {},
   "outputs": [],
   "source": [
    "url=\"https://analytics.usa.gov/data/live/browsers.json\""
   ]
  },
  {
   "cell_type": "code",
   "execution_count": 19,
   "metadata": {},
   "outputs": [],
   "source": [
    "response = requests.get(url)"
   ]
  },
  {
   "cell_type": "code",
   "execution_count": 20,
   "metadata": {},
   "outputs": [
    {
     "data": {
      "text/plain": [
       "<Response [200]>"
      ]
     },
     "execution_count": 20,
     "metadata": {},
     "output_type": "execute_result"
    }
   ],
   "source": [
    "response"
   ]
  },
  {
   "cell_type": "markdown",
   "metadata": {},
   "source": [
    "#### 3. Print out the results in raw form "
   ]
  },
  {
   "cell_type": "code",
   "execution_count": 21,
   "metadata": {},
   "outputs": [],
   "source": [
    "results = response.json()"
   ]
  },
  {
   "cell_type": "code",
   "execution_count": 22,
   "metadata": {},
   "outputs": [
    {
     "name": "stdout",
     "output_type": "stream",
     "text": [
      "name : browsers \n",
      "\n",
      "sampling : {'containsSampledData': False} \n",
      "\n",
      "query : {'start-date': '90daysAgo', 'end-date': 'yesterday', 'dimensions': 'ga:date,ga:browser', 'metrics': ['ga:sessions'], 'sort': ['ga:date', '-ga:sessions'], 'filters': 'ga:sessions>100', 'start-index': 1, 'max-results': 10000, 'samplingLevel': 'HIGHER_PRECISION'} \n",
      "\n",
      "meta : {'name': 'Browsers', 'description': '90 days of visits broken down by browser for all sites. (>100 sessions)'} \n",
      "\n",
      "totals : {'visits': 5220257397, 'browser': {'Chrome': 2525542851, 'Safari': 1868359206, 'Edge': 309021773, 'Firefox': 152347280, 'Samsung Internet': 112892684, 'Internet Explorer': 79151679, 'Safari (in-app)': 70607293, 'Android Webview': 55374793, 'Opera': 16425807, 'Amazon Silk': 9737738, 'Mercari_d': 4876124, 'UC Browser': 1972952, 'Mozilla Compatible Agent': 1979588, 'Opera Mini': 1049616, 'TE_IEP': 1159784, 'YaBrowser': 3901423, 'Android Browser': 355077, 'Coc Coc': 624301, 'ELB-HealthChecker': 338277, '(not set)': 126415, 'ThousandEyes': 180293, 'HRB-MOBILE-ANDROID-PHONE-MYBLOCK-v9.17.0': 48009, 'SeaMonkey': 113229, 'Voxgov': 112800, 'HRB-MOBILE-IOS-PHONE-MYBLOCK-FACEID': 48886, 'Mozilla': 105600, 'Puffin': 78584, 'Android Runtime': 76750, 'IRS - TRG19-01Loeim': 64781, 'United States Postal Service - TRG19-01Loeim': 53112, '[FBAN': 48692, 'Carousel': 61285, 'BestBuy': 31284, 'BlackBerry': 51478, 'HRB-MOBILE-IOS-PHONE-MYBLOCK-TOUCHID': 20397, 'M': 86280, 'mozilla': 68544, 'Maxthon': 34706, 'HRB-MOBILE-ANDROID-PHONE-MYBLOCK-v9.16.0': 4008, 'HRB-MOBILE-IOS-PHONE-MYBLOCK': 12586, 'DoximityWebView': 98370, 'Iron': 26263, 'CypressBrowser': 24617, 'Handshake iOS 3.20.0': 1359, 'TotalValidator': 949, 'Konqueror': 17428, 'iPhone': 9887, 'NetFront': 16185, 'Screaming Frog SEO Spider': 1460, 'lua-resty-http': 13037, 'pa11y': 11340, 'ZhihuHybrid DefaultBrowser osee2unifiedRelease': 14816, 'Google-Test2': 10409, 'Amazon.com': 37747, 'deepnoc - https:': 11606, 'candroid': 21602, 'DwSiteChecker': 10971, 'Microsoft Office Word 2014': 16092, '\"\"': 3730, 'Welltory': 1270768, 'bitdiscovery': 809420, 'Emb': 7852, 'Playstation 3': 9654, 'Nintendo Browser': 5829, 'Jetty': 2914, 'User-Agent: Mozilla': 3256, 'Papers': 471, 'newsdayAccessTrue': 110, '{user_agent}': 14768, 'Instagram 196.0.0.21.120': 4326, 'com.doximity.doximitydroid': 7950, '{self.chrome_ua}': 54849, '\"Mozilla': 8399, 'WordPress': 2027, 'Handshake iOS 3.21.1': 337, 'Microsoft Office Excel 2014': 1763, 'SiteScoreBot v20210315 - https:': 213, 'Netscape': 1053, 'SmartTraveler.iOS': 148600, 'Instagram 197.0.0.20.119': 4759, 'Handshake iOS 3.22.0': 291, 'BloombergHorseshoe|iOS|14.6|5.51.0|d5881690675e7efa9f186eb0237457890c44e9af': 686, 'Instagram 185.0.0.31.116': 1395, 'ogapp': 667, 'flood-element-test': 5529, 'EAS CSOC': 3280, 'OptimalBot': 379, 'Instagram 198.0.0.27.119': 5178, 'Grailed': 20478, 'Seznam': 232, 'Something Something Netscape Navigator :-)': 552, 'Airbnb': 260, 'WWApp WWMobile': 448, 'HRB-MOBILE-ANDROID-PHONE-MYBLOCK-v9.18.0': 17397, 'Phantom.js bot': 585, 'Podcasts': 494, 'ADPTablet': 1882, '<fake_useragent.fake.FakeUserAgent object at 0x000000A65E27BEC8>': 15250, 'HackerOne': 261, 'nu.nl': 122, '<fake_useragent.fake.FakeUserAgent object at 0x000000835A430248>': 38725, '<fake_useragent.fake.FakeUserAgent object at 0x000000A22EC30088>': 129840, '<fake_useragent.fake.FakeUserAgent object at 0x000000A490F15FC8>': 5069, 'Sparkle': 64228, 'Bluebeam Revu Browser - cef version: 57.0.0.0': 212, 'Wget': 102, 'Handshake iOS 3.25.1': 526, 'BloombergHorseshoe|iOS|14.7.1|5.53.0|81011f9a2d66a5ad2e997acc7891e52e47552da8': 240, 'HRB-MOBILE-ANDROID-PHONE-MYBLOCK-v9.19.0': 11249, 'Handshake iOS 3.26.0': 1053, 'Instagram 201.0.0.23.111': 321, 'Dalton Consulting A.Carrion@memphis.edu': 461, 'Instagram 153.0.0.26.73': 1888, 'Handshake iOS 3.26.1': 942, 'Instagram 202.0.0.23.119': 5829, 'android': 355, 'Charlotte: The Financial Institution Crawler - 2000ms of politeness': 112, 'Walgreens': 13821, 'HRB-MOBILE-ANDROID-PHONE-MYBLOCK-v9.20.0': 14786, 'Handshake iOS 4.0.0': 1421, 'Default': 108, 'Instagram 193.0.0.29.121': 4211, 'Instagram 203.0.0.26.117': 6312, 'Lawfully': 6232, 'casper': 161, 'Instagram 199.0.0.27.120': 867, 'Instagram 200.1.0.20.118': 3490, 'Instagram 166.1.0.41.241': 116, 'Type user agent here': 105, 'Handshake iOS 4.1.0': 501, 'Unemployed dominicdones@gmail.com': 1555, 'SiteAnalyzerbot': 194, 'Instagram 204.0.0.16.119': 2498, 'Handshake iOS 4.2.0': 406, 'Instagram 205.0.0.20.115': 2015, 'Arachnys techteam@arachnys.com': 355, 'Handshake iOS 4.3.0': 2248, 'Instagram 191.0.0.25.122': 705, 'BrowserNG': 106, 'Instagram 206.1.0.30.118': 2072, 'Instagram 207.0.0.28.118': 2740, 'user_agent': 116, 'Handshake iOS 4.4.0': 587}} \n",
      "\n",
      "taken_at : 2021-10-05T10:00:34.048Z \n",
      "\n"
     ]
    }
   ],
   "source": [
    "for k, v in results.items():\n",
    "    print(k,':',v, '\\n')"
   ]
  },
  {
   "cell_type": "markdown",
   "metadata": {},
   "source": [
    "#### 4. Print out the results as a dataframe \n",
    "<i/> Hint: use pandas from_dict method\n",
    "\n",
    "The index should be the browsers, and the column should be the number of visits\n",
    "    "
   ]
  },
  {
   "cell_type": "code",
   "execution_count": 23,
   "metadata": {},
   "outputs": [
    {
     "data": {
      "text/plain": [
       "{'visits': 5220257397,\n",
       " 'browser': {'Chrome': 2525542851,\n",
       "  'Safari': 1868359206,\n",
       "  'Edge': 309021773,\n",
       "  'Firefox': 152347280,\n",
       "  'Samsung Internet': 112892684,\n",
       "  'Internet Explorer': 79151679,\n",
       "  'Safari (in-app)': 70607293,\n",
       "  'Android Webview': 55374793,\n",
       "  'Opera': 16425807,\n",
       "  'Amazon Silk': 9737738,\n",
       "  'Mercari_d': 4876124,\n",
       "  'UC Browser': 1972952,\n",
       "  'Mozilla Compatible Agent': 1979588,\n",
       "  'Opera Mini': 1049616,\n",
       "  'TE_IEP': 1159784,\n",
       "  'YaBrowser': 3901423,\n",
       "  'Android Browser': 355077,\n",
       "  'Coc Coc': 624301,\n",
       "  'ELB-HealthChecker': 338277,\n",
       "  '(not set)': 126415,\n",
       "  'ThousandEyes': 180293,\n",
       "  'HRB-MOBILE-ANDROID-PHONE-MYBLOCK-v9.17.0': 48009,\n",
       "  'SeaMonkey': 113229,\n",
       "  'Voxgov': 112800,\n",
       "  'HRB-MOBILE-IOS-PHONE-MYBLOCK-FACEID': 48886,\n",
       "  'Mozilla': 105600,\n",
       "  'Puffin': 78584,\n",
       "  'Android Runtime': 76750,\n",
       "  'IRS - TRG19-01Loeim': 64781,\n",
       "  'United States Postal Service - TRG19-01Loeim': 53112,\n",
       "  '[FBAN': 48692,\n",
       "  'Carousel': 61285,\n",
       "  'BestBuy': 31284,\n",
       "  'BlackBerry': 51478,\n",
       "  'HRB-MOBILE-IOS-PHONE-MYBLOCK-TOUCHID': 20397,\n",
       "  'M': 86280,\n",
       "  'mozilla': 68544,\n",
       "  'Maxthon': 34706,\n",
       "  'HRB-MOBILE-ANDROID-PHONE-MYBLOCK-v9.16.0': 4008,\n",
       "  'HRB-MOBILE-IOS-PHONE-MYBLOCK': 12586,\n",
       "  'DoximityWebView': 98370,\n",
       "  'Iron': 26263,\n",
       "  'CypressBrowser': 24617,\n",
       "  'Handshake iOS 3.20.0': 1359,\n",
       "  'TotalValidator': 949,\n",
       "  'Konqueror': 17428,\n",
       "  'iPhone': 9887,\n",
       "  'NetFront': 16185,\n",
       "  'Screaming Frog SEO Spider': 1460,\n",
       "  'lua-resty-http': 13037,\n",
       "  'pa11y': 11340,\n",
       "  'ZhihuHybrid DefaultBrowser osee2unifiedRelease': 14816,\n",
       "  'Google-Test2': 10409,\n",
       "  'Amazon.com': 37747,\n",
       "  'deepnoc - https:': 11606,\n",
       "  'candroid': 21602,\n",
       "  'DwSiteChecker': 10971,\n",
       "  'Microsoft Office Word 2014': 16092,\n",
       "  '\"\"': 3730,\n",
       "  'Welltory': 1270768,\n",
       "  'bitdiscovery': 809420,\n",
       "  'Emb': 7852,\n",
       "  'Playstation 3': 9654,\n",
       "  'Nintendo Browser': 5829,\n",
       "  'Jetty': 2914,\n",
       "  'User-Agent: Mozilla': 3256,\n",
       "  'Papers': 471,\n",
       "  'newsdayAccessTrue': 110,\n",
       "  '{user_agent}': 14768,\n",
       "  'Instagram 196.0.0.21.120': 4326,\n",
       "  'com.doximity.doximitydroid': 7950,\n",
       "  '{self.chrome_ua}': 54849,\n",
       "  '\"Mozilla': 8399,\n",
       "  'WordPress': 2027,\n",
       "  'Handshake iOS 3.21.1': 337,\n",
       "  'Microsoft Office Excel 2014': 1763,\n",
       "  'SiteScoreBot v20210315 - https:': 213,\n",
       "  'Netscape': 1053,\n",
       "  'SmartTraveler.iOS': 148600,\n",
       "  'Instagram 197.0.0.20.119': 4759,\n",
       "  'Handshake iOS 3.22.0': 291,\n",
       "  'BloombergHorseshoe|iOS|14.6|5.51.0|d5881690675e7efa9f186eb0237457890c44e9af': 686,\n",
       "  'Instagram 185.0.0.31.116': 1395,\n",
       "  'ogapp': 667,\n",
       "  'flood-element-test': 5529,\n",
       "  'EAS CSOC': 3280,\n",
       "  'OptimalBot': 379,\n",
       "  'Instagram 198.0.0.27.119': 5178,\n",
       "  'Grailed': 20478,\n",
       "  'Seznam': 232,\n",
       "  'Something Something Netscape Navigator :-)': 552,\n",
       "  'Airbnb': 260,\n",
       "  'WWApp WWMobile': 448,\n",
       "  'HRB-MOBILE-ANDROID-PHONE-MYBLOCK-v9.18.0': 17397,\n",
       "  'Phantom.js bot': 585,\n",
       "  'Podcasts': 494,\n",
       "  'ADPTablet': 1882,\n",
       "  '<fake_useragent.fake.FakeUserAgent object at 0x000000A65E27BEC8>': 15250,\n",
       "  'HackerOne': 261,\n",
       "  'nu.nl': 122,\n",
       "  '<fake_useragent.fake.FakeUserAgent object at 0x000000835A430248>': 38725,\n",
       "  '<fake_useragent.fake.FakeUserAgent object at 0x000000A22EC30088>': 129840,\n",
       "  '<fake_useragent.fake.FakeUserAgent object at 0x000000A490F15FC8>': 5069,\n",
       "  'Sparkle': 64228,\n",
       "  'Bluebeam Revu Browser - cef version: 57.0.0.0': 212,\n",
       "  'Wget': 102,\n",
       "  'Handshake iOS 3.25.1': 526,\n",
       "  'BloombergHorseshoe|iOS|14.7.1|5.53.0|81011f9a2d66a5ad2e997acc7891e52e47552da8': 240,\n",
       "  'HRB-MOBILE-ANDROID-PHONE-MYBLOCK-v9.19.0': 11249,\n",
       "  'Handshake iOS 3.26.0': 1053,\n",
       "  'Instagram 201.0.0.23.111': 321,\n",
       "  'Dalton Consulting A.Carrion@memphis.edu': 461,\n",
       "  'Instagram 153.0.0.26.73': 1888,\n",
       "  'Handshake iOS 3.26.1': 942,\n",
       "  'Instagram 202.0.0.23.119': 5829,\n",
       "  'android': 355,\n",
       "  'Charlotte: The Financial Institution Crawler - 2000ms of politeness': 112,\n",
       "  'Walgreens': 13821,\n",
       "  'HRB-MOBILE-ANDROID-PHONE-MYBLOCK-v9.20.0': 14786,\n",
       "  'Handshake iOS 4.0.0': 1421,\n",
       "  'Default': 108,\n",
       "  'Instagram 193.0.0.29.121': 4211,\n",
       "  'Instagram 203.0.0.26.117': 6312,\n",
       "  'Lawfully': 6232,\n",
       "  'casper': 161,\n",
       "  'Instagram 199.0.0.27.120': 867,\n",
       "  'Instagram 200.1.0.20.118': 3490,\n",
       "  'Instagram 166.1.0.41.241': 116,\n",
       "  'Type user agent here': 105,\n",
       "  'Handshake iOS 4.1.0': 501,\n",
       "  'Unemployed dominicdones@gmail.com': 1555,\n",
       "  'SiteAnalyzerbot': 194,\n",
       "  'Instagram 204.0.0.16.119': 2498,\n",
       "  'Handshake iOS 4.2.0': 406,\n",
       "  'Instagram 205.0.0.20.115': 2015,\n",
       "  'Arachnys techteam@arachnys.com': 355,\n",
       "  'Handshake iOS 4.3.0': 2248,\n",
       "  'Instagram 191.0.0.25.122': 705,\n",
       "  'BrowserNG': 106,\n",
       "  'Instagram 206.1.0.30.118': 2072,\n",
       "  'Instagram 207.0.0.28.118': 2740,\n",
       "  'user_agent': 116,\n",
       "  'Handshake iOS 4.4.0': 587}}"
      ]
     },
     "execution_count": 23,
     "metadata": {},
     "output_type": "execute_result"
    }
   ],
   "source": [
    "results['totals']"
   ]
  },
  {
   "cell_type": "code",
   "execution_count": 24,
   "metadata": {},
   "outputs": [],
   "source": [
    "data = results['totals']['browser']"
   ]
  },
  {
   "cell_type": "code",
   "execution_count": 25,
   "metadata": {},
   "outputs": [],
   "source": [
    "df=pd.DataFrame.from_dict(data, orient='index', columns=['visits'])"
   ]
  },
  {
   "cell_type": "code",
   "execution_count": 26,
   "metadata": {},
   "outputs": [
    {
     "data": {
      "text/html": [
       "<div>\n",
       "<style scoped>\n",
       "    .dataframe tbody tr th:only-of-type {\n",
       "        vertical-align: middle;\n",
       "    }\n",
       "\n",
       "    .dataframe tbody tr th {\n",
       "        vertical-align: top;\n",
       "    }\n",
       "\n",
       "    .dataframe thead th {\n",
       "        text-align: right;\n",
       "    }\n",
       "</style>\n",
       "<table border=\"1\" class=\"dataframe\">\n",
       "  <thead>\n",
       "    <tr style=\"text-align: right;\">\n",
       "      <th></th>\n",
       "      <th>visits</th>\n",
       "    </tr>\n",
       "  </thead>\n",
       "  <tbody>\n",
       "    <tr>\n",
       "      <th>Chrome</th>\n",
       "      <td>2525542851</td>\n",
       "    </tr>\n",
       "    <tr>\n",
       "      <th>Safari</th>\n",
       "      <td>1868359206</td>\n",
       "    </tr>\n",
       "    <tr>\n",
       "      <th>Edge</th>\n",
       "      <td>309021773</td>\n",
       "    </tr>\n",
       "    <tr>\n",
       "      <th>Firefox</th>\n",
       "      <td>152347280</td>\n",
       "    </tr>\n",
       "    <tr>\n",
       "      <th>Samsung Internet</th>\n",
       "      <td>112892684</td>\n",
       "    </tr>\n",
       "  </tbody>\n",
       "</table>\n",
       "</div>"
      ],
      "text/plain": [
       "                      visits\n",
       "Chrome            2525542851\n",
       "Safari            1868359206\n",
       "Edge               309021773\n",
       "Firefox            152347280\n",
       "Samsung Internet   112892684"
      ]
     },
     "execution_count": 26,
     "metadata": {},
     "output_type": "execute_result"
    }
   ],
   "source": [
    "df.head()"
   ]
  },
  {
   "cell_type": "markdown",
   "metadata": {},
   "source": [
    "____"
   ]
  }
 ],
 "metadata": {
  "kernelspec": {
   "display_name": "Python 3",
   "language": "python",
   "name": "python3"
  },
  "language_info": {
   "codemirror_mode": {
    "name": "ipython",
    "version": 3
   },
   "file_extension": ".py",
   "mimetype": "text/x-python",
   "name": "python",
   "nbconvert_exporter": "python",
   "pygments_lexer": "ipython3",
   "version": "3.8.10"
  }
 },
 "nbformat": 4,
 "nbformat_minor": 2
}
